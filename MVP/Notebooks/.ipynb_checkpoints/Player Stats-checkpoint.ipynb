{
 "cells": [
  {
   "cell_type": "code",
   "execution_count": 1,
   "metadata": {},
   "outputs": [],
   "source": [
    "import pandas as pd\n",
    "import matplotlib.pyplot as plt\n",
    "import numpy as np"
   ]
  },
  {
   "cell_type": "code",
   "execution_count": 2,
   "metadata": {},
   "outputs": [
    {
     "data": {
      "text/html": [
       "<div>\n",
       "<style scoped>\n",
       "    .dataframe tbody tr th:only-of-type {\n",
       "        vertical-align: middle;\n",
       "    }\n",
       "\n",
       "    .dataframe tbody tr th {\n",
       "        vertical-align: top;\n",
       "    }\n",
       "\n",
       "    .dataframe thead th {\n",
       "        text-align: right;\n",
       "    }\n",
       "</style>\n",
       "<table border=\"1\" class=\"dataframe\">\n",
       "  <thead>\n",
       "    <tr style=\"text-align: right;\">\n",
       "      <th></th>\n",
       "      <th>Player Name</th>\n",
       "      <th>3P</th>\n",
       "      <th>3PA</th>\n",
       "    </tr>\n",
       "  </thead>\n",
       "  <tbody>\n",
       "    <tr>\n",
       "      <td>1</td>\n",
       "      <td>Kareem Abdul-Jabbar</td>\n",
       "      <td>0</td>\n",
       "      <td>0</td>\n",
       "    </tr>\n",
       "    <tr>\n",
       "      <td>2</td>\n",
       "      <td>Magic Johnson</td>\n",
       "      <td>0</td>\n",
       "      <td>2</td>\n",
       "    </tr>\n",
       "    <tr>\n",
       "      <td>3</td>\n",
       "      <td>Jamaal Wilkes</td>\n",
       "      <td>0</td>\n",
       "      <td>0</td>\n",
       "    </tr>\n",
       "    <tr>\n",
       "      <td>4</td>\n",
       "      <td>Norm Nixon</td>\n",
       "      <td>0</td>\n",
       "      <td>1</td>\n",
       "    </tr>\n",
       "    <tr>\n",
       "      <td>5</td>\n",
       "      <td>Michael Cooper</td>\n",
       "      <td>0</td>\n",
       "      <td>0</td>\n",
       "    </tr>\n",
       "    <tr>\n",
       "      <td>6</td>\n",
       "      <td>Jim Chones</td>\n",
       "      <td>0</td>\n",
       "      <td>0</td>\n",
       "    </tr>\n",
       "    <tr>\n",
       "      <td>7</td>\n",
       "      <td>Mark Landsberger</td>\n",
       "      <td>0</td>\n",
       "      <td>1</td>\n",
       "    </tr>\n",
       "    <tr>\n",
       "      <td>8</td>\n",
       "      <td>Brad Holland</td>\n",
       "      <td>0</td>\n",
       "      <td>0</td>\n",
       "    </tr>\n",
       "    <tr>\n",
       "      <td>9</td>\n",
       "      <td>Spencer Haywood</td>\n",
       "      <td>0</td>\n",
       "      <td>0</td>\n",
       "    </tr>\n",
       "    <tr>\n",
       "      <td>10</td>\n",
       "      <td>Marty Byrnes</td>\n",
       "      <td>0</td>\n",
       "      <td>0</td>\n",
       "    </tr>\n",
       "  </tbody>\n",
       "</table>\n",
       "</div>"
      ],
      "text/plain": [
       "            Player Name 3P 3PA\n",
       "1   Kareem Abdul-Jabbar  0   0\n",
       "2         Magic Johnson  0   2\n",
       "3         Jamaal Wilkes  0   0\n",
       "4            Norm Nixon  0   1\n",
       "5        Michael Cooper  0   0\n",
       "6            Jim Chones  0   0\n",
       "7      Mark Landsberger  0   1\n",
       "8          Brad Holland  0   0\n",
       "9       Spencer Haywood  0   0\n",
       "10         Marty Byrnes  0   0"
      ]
     },
     "execution_count": 2,
     "metadata": {},
     "output_type": "execute_result"
    }
   ],
   "source": [
    "eighty_lakers=pd.read_csv(\"1980lakers.csv\")\n",
    "lakers=eighty_lakers[[\"Unnamed: 1\",\"Unnamed: 7\",\"Unnamed: 8\"]]\n",
    "lakers_1=lakers.drop(0)\n",
    "lakers_2=lakers_1.drop(11)\n",
    "lakers_final=lakers_2.rename(columns={\"Unnamed: 1\": \"Player Name\",\"Unnamed: 7\":\"3P\",\"Unnamed: 8\":\"3PA\"})\n",
    "lakers_final"
   ]
  },
  {
   "cell_type": "code",
   "execution_count": 86,
   "metadata": {},
   "outputs": [
    {
     "data": {
      "image/png": "[encoded data removed]",
      "text/plain": [
       "<Figure size 432x288 with 1 Axes>"
      ]
     },
     "metadata": {
      "needs_background": "light"
     },
     "output_type": "display_data"
    }
   ],
   "source": [
    "\n",
    "x=lakers_final[\"3PA\"].sort_values(ascending=True)\n",
    "y=lakers_final[\"3P\"].sort_values(ascending=True)\n",
    "plt.scatter(x,y)\n",
    "plt.xlabel(\"3PA\")\n",
    "plt.ylabel(\"3P Made\")\n",
    "plt.title(\"3PA vs 3P made for 1980 lakers\")\n",
    "plt.show()"
   ]
  },
  {
   "cell_type": "code",
   "execution_count": 116,
   "metadata": {},
   "outputs": [
    {
     "data": {
      "text/html": [
       "<div>\n",
       "<style scoped>\n",
       "    .dataframe tbody tr th:only-of-type {\n",
       "        vertical-align: middle;\n",
       "    }\n",
       "\n",
       "    .dataframe tbody tr th {\n",
       "        vertical-align: top;\n",
       "    }\n",
       "\n",
       "    .dataframe thead th {\n",
       "        text-align: right;\n",
       "    }\n",
       "</style>\n",
       "<table border=\"1\" class=\"dataframe\">\n",
       "  <thead>\n",
       "    <tr style=\"text-align: right;\">\n",
       "      <th></th>\n",
       "      <th>3P</th>\n",
       "      <th>3P%</th>\n",
       "    </tr>\n",
       "    <tr>\n",
       "      <th>Player Name</th>\n",
       "      <th></th>\n",
       "      <th></th>\n",
       "    </tr>\n",
       "  </thead>\n",
       "  <tbody>\n",
       "    <tr>\n",
       "      <td>Kevin Durant</td>\n",
       "      <td>9</td>\n",
       "      <td>0.409</td>\n",
       "    </tr>\n",
       "    <tr>\n",
       "      <td>Stephen Curry</td>\n",
       "      <td>22</td>\n",
       "      <td>0.415</td>\n",
       "    </tr>\n",
       "    <tr>\n",
       "      <td>Klay Thompson</td>\n",
       "      <td>12</td>\n",
       "      <td>0.429</td>\n",
       "    </tr>\n",
       "    <tr>\n",
       "      <td>Draymond Green</td>\n",
       "      <td>3</td>\n",
       "      <td>0.214</td>\n",
       "    </tr>\n",
       "    <tr>\n",
       "      <td>Jordan Bell</td>\n",
       "      <td>0</td>\n",
       "      <td>0</td>\n",
       "    </tr>\n",
       "    <tr>\n",
       "      <td>Andre Iguodala</td>\n",
       "      <td>3</td>\n",
       "      <td>0.5</td>\n",
       "    </tr>\n",
       "    <tr>\n",
       "      <td>David West</td>\n",
       "      <td>1</td>\n",
       "      <td>1</td>\n",
       "    </tr>\n",
       "    <tr>\n",
       "      <td>Nick Young</td>\n",
       "      <td>1</td>\n",
       "      <td>0.1</td>\n",
       "    </tr>\n",
       "    <tr>\n",
       "      <td>Quinn Cook</td>\n",
       "      <td>0</td>\n",
       "      <td>0</td>\n",
       "    </tr>\n",
       "  </tbody>\n",
       "</table>\n",
       "</div>"
      ],
      "text/plain": [
       "                3P    3P%\n",
       "Player Name              \n",
       "Kevin Durant     9  0.409\n",
       "Stephen Curry   22  0.415\n",
       "Klay Thompson   12  0.429\n",
       "Draymond Green   3  0.214\n",
       "Jordan Bell      0      0\n",
       "Andre Iguodala   3    0.5\n",
       "David West       1      1\n",
       "Nick Young       1    0.1\n",
       "Quinn Cook       0      0"
      ]
     },
     "execution_count": 116,
     "metadata": {},
     "output_type": "execute_result"
    }
   ],
   "source": [
    "eighteen_warriors=pd.read_csv(\"2018warriors.csv\")\n",
    "\n",
    "warriors=eighteen_warriors[[\"Unnamed: 1\",\"Unnamed: 8\",\"Unnamed: 22\"]]\n",
    "warriors_1=warriors.drop(0)\n",
    "warriors_3=warriors_1.drop(15)\n",
    "warriors_2=warriors_3.rename(columns={\"Unnamed: 1\": \"Player Name\",\"Unnamed: 8\":\"3P\",\"Unnamed: 22\":\"3P%\"})\n",
    "warriors_final=warriors_2.dropna()\n",
    "\n",
    "warriors_final.set_index(\"Player Name\")"
   ]
  },
  {
   "cell_type": "code",
   "execution_count": 120,
   "metadata": {},
   "outputs": [
    {
     "name": "stdout",
     "output_type": "stream",
     "text": [
      "7         0\n",
      "13        0\n",
      "12      0.1\n",
      "4     0.214\n",
      "1     0.409\n",
      "2     0.415\n",
      "3     0.429\n",
      "8       0.5\n",
      "11        1\n",
      "Name: 3P%, dtype: object\n"
     ]
    },
    {
     "data": {
      "image/png": "[encoded data removed]",
      "text/plain": [
       "<Figure size 432x288 with 1 Axes>"
      ]
     },
     "metadata": {
      "needs_background": "light"
     },
     "output_type": "display_data"
    }
   ],
   "source": [
    "\n",
    "x=warriors_final[\"3P\"]\n",
    "y=warriors_final[\"3P%\"]\n",
    "plt.scatter(x,y)\n",
    "plt.xlabel(\"3P made\")\n",
    "plt.ylabel(\"3P %\")\n",
    "plt.title(\"3P made vs 3P % for 2018 warriors\")\n",
    "plt.show()"
   ]
  },
  {
   "cell_type": "code",
   "execution_count": null,
   "metadata": {},
   "outputs": [],
   "source": []
  }
 ],
 "metadata": {
  "kernelspec": {
   "display_name": "Python 3",
   "language": "python",
   "name": "python3"
  },
  "language_info": {
   "codemirror_mode": {
    "name": "ipython",
    "version": 3
   },
   "file_extension": ".py",
   "mimetype": "text/x-python",
   "name": "python",
   "nbconvert_exporter": "python",
   "pygments_lexer": "ipython3",
   "version": "3.7.4"
  }
 },
 "nbformat": 4,
 "nbformat_minor": 2
}
